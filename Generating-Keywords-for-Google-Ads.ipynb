{
 "cells": [
  {
   "cell_type": "markdown",
   "id": "a3b3ba3c-7e6a-4b5b-b060-ff794dfcc22c",
   "metadata": {
    "dc": {
     "key": "4"
    },
    "run_control": {
     "frozen": true
    },
    "tags": [
     "context"
    ]
   },
   "source": [
    "## 1. The brief\n",
    "<p>Imagine working for a digital marketing agency, and the agency is approached by a massive online retailer of furniture. They want to test our skills at creating large campaigns for all of their website. We are tasked with creating a prototype set of keywords for search campaigns for their sofas section. The client says that they want us to generate keywords for the following products: </p>\n",
    "<ul>\n",
    "<li>sofas</li>\n",
    "<li>convertible sofas</li>\n",
    "<li>love seats</li>\n",
    "<li>recliners</li>\n",
    "<li>sofa beds</li>\n",
    "</ul>\n",
    "<p><strong>The brief</strong>: The client is generally a low-cost retailer, offering many promotions and discounts. We will need to focus on such keywords. We will also need to move away from luxury keywords and topics, as we are targeting price-sensitive customers. Because we are going to be tight on budget, it would be good to focus on a tightly targeted set of keywords and make sure they are all set to exact and phrase match.</p>\n",
    "<p>Based on the brief above we will first need to generate a list of words, that together with the products given above would make for good keywords. Here are some examples:</p>\n",
    "<ul>\n",
    "<li>Products: sofas, recliners</li>\n",
    "<li>Words: buy, prices</li>\n",
    "</ul>\n",
    "<p>The resulting keywords: 'buy sofas', 'sofas buy', 'buy recliners', 'recliners buy',\n",
    "          'prices sofas', 'sofas prices', 'prices recliners', 'recliners prices'.</p>\n",
    "<p>As a final result, we want to have a DataFrame that looks like this: </p>\n",
    "<table>\n",
    "<thead>\n",
    "<tr>\n",
    "<th>Campaign</th>\n",
    "<th>Ad Group</th>\n",
    "<th>Keyword</th>\n",
    "<th>Criterion Type</th>\n",
    "</tr>\n",
    "</thead>\n",
    "<tbody>\n",
    "<tr>\n",
    "<td>Campaign1</td>\n",
    "<td>AdGroup_1</td>\n",
    "<td>keyword 1a</td>\n",
    "<td>Exact</td>\n",
    "</tr>\n",
    "<tr>\n",
    "<td>Campaign1</td>\n",
    "<td>AdGroup_1</td>\n",
    "<td>keyword 1a</td>\n",
    "<td>Phrase</td>\n",
    "</tr>\n",
    "<tr>\n",
    "<td>Campaign1</td>\n",
    "<td>AdGroup_1</td>\n",
    "<td>keyword 1b</td>\n",
    "<td>Exact</td>\n",
    "</tr>\n",
    "<tr>\n",
    "<td>Campaign1</td>\n",
    "<td>AdGroup_1</td>\n",
    "<td>keyword 1b</td>\n",
    "<td>Phrase</td>\n",
    "</tr>\n",
    "<tr>\n",
    "<td>Campaign1</td>\n",
    "<td>AdGroup_2</td>\n",
    "<td>keyword 2a</td>\n",
    "<td>Exact</td>\n",
    "</tr>\n",
    "<tr>\n",
    "<td>Campaign1</td>\n",
    "<td>AdGroup_2</td>\n",
    "<td>keyword 2a</td>\n",
    "<td>Phrase</td>\n",
    "</tr>\n",
    "</tbody>\n",
    "</table>\n",
    "<p>The first step is to come up with a list of words that users might use to express their desire in buying low-cost sofas.</p>"
   ]
  },
  {
   "cell_type": "code",
   "execution_count": 11,
   "id": "0192b441-3dbd-4074-94cd-a24a890027a7",
   "metadata": {
    "dc": {
     "key": "4"
    },
    "execution": {
     "iopub.execute_input": "2022-11-23T07:54:24.105163Z",
     "iopub.status.busy": "2022-11-23T07:54:24.104578Z",
     "iopub.status.idle": "2022-11-23T07:54:24.109676Z",
     "shell.execute_reply": "2022-11-23T07:54:24.108847Z",
     "shell.execute_reply.started": "2022-11-23T07:54:24.105134Z"
    },
    "executionTime": 35,
    "lastSuccessfullyExecutedCode": "# List of words to pair with products\nwords = ['buy', 'price', 'discount', 'promotion', 'promo', 'shop']\n\n# Print list of words\nprint(words)",
    "tags": [
     "sample_code"
    ]
   },
   "outputs": [
    {
     "name": "stdout",
     "output_type": "stream",
     "text": [
      "['buy', 'price', 'discount', 'promotion', 'promo', 'best', 'shop', 'sale', 'off', 'lowest price', 'lower price', 'affordable', 'cheap', 'affordable price']\n"
     ]
    }
   ],
   "source": [
    "# List of words to pair with products\n",
    "words = ['buy', 'price', 'discount', 'promotion', 'promo', 'best','shop', 'sale', 'off', 'lowest price', 'lower price', 'affordable', 'cheap', 'affordable price']\n",
    "\n",
    "# Print list of words\n",
    "print(words)"
   ]
  },
  {
   "cell_type": "markdown",
   "id": "2e90fa12-6d2e-4efd-9819-b3bf4484fac7",
   "metadata": {
    "dc": {
     "key": "11"
    },
    "run_control": {
     "frozen": true
    },
    "tags": [
     "context"
    ]
   },
   "source": [
    "## 2. Combine the words with the product names\n",
    "<p>Imagining all the possible combinations of keywords can be stressful! But not for us, because we are keyword ninjas! We know how to translate campaign briefs into Python data structures and can imagine the resulting DataFrames that we need to create.</p>\n",
    "<p>Now that we have brainstormed the words that work well with the brief that we received, it is now time to combine them with the product names to generate meaningful search keywords. We want to combine every word with every product once before, and once after, as seen in the example above.</p>\n",
    "<p>As a quick reminder, for the product 'recliners' and the words 'buy' and 'price' for example, we would want to generate the following combinations: </p>\n",
    "<p>buy recliners<br>\n",
    "recliners buy<br>\n",
    "price recliners<br>\n",
    "recliners price<br>\n",
    "…  </p>\n",
    "<p>and so on for all the words and products that we have.</p>"
   ]
  },
  {
   "cell_type": "code",
   "execution_count": 12,
   "id": "91df052a-6819-45ab-a039-dda82296ba28",
   "metadata": {
    "dc": {
     "key": "11"
    },
    "execution": {
     "iopub.execute_input": "2022-11-23T07:54:24.679568Z",
     "iopub.status.busy": "2022-11-23T07:54:24.679099Z",
     "iopub.status.idle": "2022-11-23T07:54:24.685949Z",
     "shell.execute_reply": "2022-11-23T07:54:24.685078Z",
     "shell.execute_reply.started": "2022-11-23T07:54:24.679541Z"
    },
    "executionTime": 38,
    "lastSuccessfullyExecutedCode": "products = ['sofas', 'convertible sofas', 'love seats', 'recliners', 'sofa beds']\nproducts",
    "tags": []
   },
   "outputs": [
    {
     "data": {
      "text/plain": [
       "['sofas', 'convertible sofas', 'love seats', 'recliners', 'sofa beds']"
      ]
     },
     "execution_count": 12,
     "metadata": {},
     "output_type": "execute_result"
    }
   ],
   "source": [
    "products = ['sofas', 'convertible sofas', 'love seats', 'recliners', 'sofa beds']\n",
    "products"
   ]
  },
  {
   "cell_type": "code",
   "execution_count": 13,
   "id": "c1c3f29d-cc88-4ed4-9b05-b938e16b3b57",
   "metadata": {
    "dc": {
     "key": "11"
    },
    "execution": {
     "iopub.execute_input": "2022-11-23T07:54:24.832061Z",
     "iopub.status.busy": "2022-11-23T07:54:24.831701Z",
     "iopub.status.idle": "2022-11-23T07:54:24.842420Z",
     "shell.execute_reply": "2022-11-23T07:54:24.841351Z",
     "shell.execute_reply.started": "2022-11-23T07:54:24.831968Z"
    },
    "executionTime": 34,
    "lastSuccessfullyExecutedCode": "\n# Create an empty list\nkeywords_list = []\n# Loop through products\nfor product in products:\n    # Loop through words\n    for word in words:\n        # Append combinations\n        keywords_list.append([product, product + ' ' + word])\n        keywords_list.append([product, word + ' ' + product])\n        \n# Inspect keyword list\nfrom pprint import pprint\npprint(keywords_list)",
    "tags": [
     "sample_code"
    ]
   },
   "outputs": [
    {
     "name": "stdout",
     "output_type": "stream",
     "text": [
      "[['sofas', 'sofas buy'],\n",
      " ['sofas', 'buy sofas'],\n",
      " ['sofas', 'sofas price'],\n",
      " ['sofas', 'price sofas'],\n",
      " ['sofas', 'sofas discount'],\n",
      " ['sofas', 'discount sofas'],\n",
      " ['sofas', 'sofas promotion'],\n",
      " ['sofas', 'promotion sofas'],\n",
      " ['sofas', 'sofas promo'],\n",
      " ['sofas', 'promo sofas'],\n",
      " ['sofas', 'sofas best'],\n",
      " ['sofas', 'best sofas'],\n",
      " ['sofas', 'sofas shop'],\n",
      " ['sofas', 'shop sofas'],\n",
      " ['sofas', 'sofas sale'],\n",
      " ['sofas', 'sale sofas'],\n",
      " ['sofas', 'sofas off'],\n",
      " ['sofas', 'off sofas'],\n",
      " ['sofas', 'sofas lowest price'],\n",
      " ['sofas', 'lowest price sofas'],\n",
      " ['sofas', 'sofas lower price'],\n",
      " ['sofas', 'lower price sofas'],\n",
      " ['sofas', 'sofas affordable'],\n",
      " ['sofas', 'affordable sofas'],\n",
      " ['sofas', 'sofas cheap'],\n",
      " ['sofas', 'cheap sofas'],\n",
      " ['sofas', 'sofas affordable price'],\n",
      " ['sofas', 'affordable price sofas'],\n",
      " ['convertible sofas', 'convertible sofas buy'],\n",
      " ['convertible sofas', 'buy convertible sofas'],\n",
      " ['convertible sofas', 'convertible sofas price'],\n",
      " ['convertible sofas', 'price convertible sofas'],\n",
      " ['convertible sofas', 'convertible sofas discount'],\n",
      " ['convertible sofas', 'discount convertible sofas'],\n",
      " ['convertible sofas', 'convertible sofas promotion'],\n",
      " ['convertible sofas', 'promotion convertible sofas'],\n",
      " ['convertible sofas', 'convertible sofas promo'],\n",
      " ['convertible sofas', 'promo convertible sofas'],\n",
      " ['convertible sofas', 'convertible sofas best'],\n",
      " ['convertible sofas', 'best convertible sofas'],\n",
      " ['convertible sofas', 'convertible sofas shop'],\n",
      " ['convertible sofas', 'shop convertible sofas'],\n",
      " ['convertible sofas', 'convertible sofas sale'],\n",
      " ['convertible sofas', 'sale convertible sofas'],\n",
      " ['convertible sofas', 'convertible sofas off'],\n",
      " ['convertible sofas', 'off convertible sofas'],\n",
      " ['convertible sofas', 'convertible sofas lowest price'],\n",
      " ['convertible sofas', 'lowest price convertible sofas'],\n",
      " ['convertible sofas', 'convertible sofas lower price'],\n",
      " ['convertible sofas', 'lower price convertible sofas'],\n",
      " ['convertible sofas', 'convertible sofas affordable'],\n",
      " ['convertible sofas', 'affordable convertible sofas'],\n",
      " ['convertible sofas', 'convertible sofas cheap'],\n",
      " ['convertible sofas', 'cheap convertible sofas'],\n",
      " ['convertible sofas', 'convertible sofas affordable price'],\n",
      " ['convertible sofas', 'affordable price convertible sofas'],\n",
      " ['love seats', 'love seats buy'],\n",
      " ['love seats', 'buy love seats'],\n",
      " ['love seats', 'love seats price'],\n",
      " ['love seats', 'price love seats'],\n",
      " ['love seats', 'love seats discount'],\n",
      " ['love seats', 'discount love seats'],\n",
      " ['love seats', 'love seats promotion'],\n",
      " ['love seats', 'promotion love seats'],\n",
      " ['love seats', 'love seats promo'],\n",
      " ['love seats', 'promo love seats'],\n",
      " ['love seats', 'love seats best'],\n",
      " ['love seats', 'best love seats'],\n",
      " ['love seats', 'love seats shop'],\n",
      " ['love seats', 'shop love seats'],\n",
      " ['love seats', 'love seats sale'],\n",
      " ['love seats', 'sale love seats'],\n",
      " ['love seats', 'love seats off'],\n",
      " ['love seats', 'off love seats'],\n",
      " ['love seats', 'love seats lowest price'],\n",
      " ['love seats', 'lowest price love seats'],\n",
      " ['love seats', 'love seats lower price'],\n",
      " ['love seats', 'lower price love seats'],\n",
      " ['love seats', 'love seats affordable'],\n",
      " ['love seats', 'affordable love seats'],\n",
      " ['love seats', 'love seats cheap'],\n",
      " ['love seats', 'cheap love seats'],\n",
      " ['love seats', 'love seats affordable price'],\n",
      " ['love seats', 'affordable price love seats'],\n",
      " ['recliners', 'recliners buy'],\n",
      " ['recliners', 'buy recliners'],\n",
      " ['recliners', 'recliners price'],\n",
      " ['recliners', 'price recliners'],\n",
      " ['recliners', 'recliners discount'],\n",
      " ['recliners', 'discount recliners'],\n",
      " ['recliners', 'recliners promotion'],\n",
      " ['recliners', 'promotion recliners'],\n",
      " ['recliners', 'recliners promo'],\n",
      " ['recliners', 'promo recliners'],\n",
      " ['recliners', 'recliners best'],\n",
      " ['recliners', 'best recliners'],\n",
      " ['recliners', 'recliners shop'],\n",
      " ['recliners', 'shop recliners'],\n",
      " ['recliners', 'recliners sale'],\n",
      " ['recliners', 'sale recliners'],\n",
      " ['recliners', 'recliners off'],\n",
      " ['recliners', 'off recliners'],\n",
      " ['recliners', 'recliners lowest price'],\n",
      " ['recliners', 'lowest price recliners'],\n",
      " ['recliners', 'recliners lower price'],\n",
      " ['recliners', 'lower price recliners'],\n",
      " ['recliners', 'recliners affordable'],\n",
      " ['recliners', 'affordable recliners'],\n",
      " ['recliners', 'recliners cheap'],\n",
      " ['recliners', 'cheap recliners'],\n",
      " ['recliners', 'recliners affordable price'],\n",
      " ['recliners', 'affordable price recliners'],\n",
      " ['sofa beds', 'sofa beds buy'],\n",
      " ['sofa beds', 'buy sofa beds'],\n",
      " ['sofa beds', 'sofa beds price'],\n",
      " ['sofa beds', 'price sofa beds'],\n",
      " ['sofa beds', 'sofa beds discount'],\n",
      " ['sofa beds', 'discount sofa beds'],\n",
      " ['sofa beds', 'sofa beds promotion'],\n",
      " ['sofa beds', 'promotion sofa beds'],\n",
      " ['sofa beds', 'sofa beds promo'],\n",
      " ['sofa beds', 'promo sofa beds'],\n",
      " ['sofa beds', 'sofa beds best'],\n",
      " ['sofa beds', 'best sofa beds'],\n",
      " ['sofa beds', 'sofa beds shop'],\n",
      " ['sofa beds', 'shop sofa beds'],\n",
      " ['sofa beds', 'sofa beds sale'],\n",
      " ['sofa beds', 'sale sofa beds'],\n",
      " ['sofa beds', 'sofa beds off'],\n",
      " ['sofa beds', 'off sofa beds'],\n",
      " ['sofa beds', 'sofa beds lowest price'],\n",
      " ['sofa beds', 'lowest price sofa beds'],\n",
      " ['sofa beds', 'sofa beds lower price'],\n",
      " ['sofa beds', 'lower price sofa beds'],\n",
      " ['sofa beds', 'sofa beds affordable'],\n",
      " ['sofa beds', 'affordable sofa beds'],\n",
      " ['sofa beds', 'sofa beds cheap'],\n",
      " ['sofa beds', 'cheap sofa beds'],\n",
      " ['sofa beds', 'sofa beds affordable price'],\n",
      " ['sofa beds', 'affordable price sofa beds']]\n"
     ]
    }
   ],
   "source": [
    "# Create an empty list\n",
    "keywords_list = []\n",
    "# Loop through products\n",
    "for product in products:\n",
    "    # Loop through words\n",
    "    for word in words:\n",
    "        # Append combinations\n",
    "        keywords_list.append([product, product + ' ' + word])\n",
    "        keywords_list.append([product, word + ' ' + product])\n",
    "        \n",
    "# Inspect keyword list\n",
    "from pprint import pprint\n",
    "pprint(keywords_list)"
   ]
  },
  {
   "cell_type": "markdown",
   "id": "8d559ea5-b3bf-4d63-813c-ea1b517b91aa",
   "metadata": {
    "dc": {
     "key": "18"
    },
    "run_control": {
     "frozen": true
    },
    "tags": [
     "context"
    ]
   },
   "source": [
    "## 3. Convert the list of lists into a DataFrame\n",
    "<p>Now we want to convert this list of lists into a DataFrame so we can easily manipulate it and manage the final output.</p>"
   ]
  },
  {
   "cell_type": "code",
   "execution_count": 14,
   "id": "dd0735c2-f557-4994-a14d-6fd1d1058bda",
   "metadata": {
    "dc": {
     "key": "18"
    },
    "execution": {
     "iopub.execute_input": "2022-11-23T07:54:25.459602Z",
     "iopub.status.busy": "2022-11-23T07:54:25.459279Z",
     "iopub.status.idle": "2022-11-23T07:54:25.468671Z",
     "shell.execute_reply": "2022-11-23T07:54:25.468061Z",
     "shell.execute_reply.started": "2022-11-23T07:54:25.459579Z"
    },
    "executionTime": 221,
    "lastSuccessfullyExecutedCode": "# Load library\n# ... YOUR CODE FOR TASK 3 ...\nimport pandas as pd\n# Create a DataFrame from list\nkeywords_df = pd.DataFrame(keywords_list)\nkeywords_df.head()\n# Print the keywords DataFrame to explore it\n# ... YOUR CODE FOR TASK 3 ...",
    "tags": [
     "sample_code"
    ]
   },
   "outputs": [
    {
     "data": {
      "text/html": [
       "<div>\n",
       "<style scoped>\n",
       "    .dataframe tbody tr th:only-of-type {\n",
       "        vertical-align: middle;\n",
       "    }\n",
       "\n",
       "    .dataframe tbody tr th {\n",
       "        vertical-align: top;\n",
       "    }\n",
       "\n",
       "    .dataframe thead th {\n",
       "        text-align: right;\n",
       "    }\n",
       "</style>\n",
       "<table border=\"1\" class=\"dataframe\">\n",
       "  <thead>\n",
       "    <tr style=\"text-align: right;\">\n",
       "      <th></th>\n",
       "      <th>0</th>\n",
       "      <th>1</th>\n",
       "    </tr>\n",
       "  </thead>\n",
       "  <tbody>\n",
       "    <tr>\n",
       "      <th>0</th>\n",
       "      <td>sofas</td>\n",
       "      <td>sofas buy</td>\n",
       "    </tr>\n",
       "    <tr>\n",
       "      <th>1</th>\n",
       "      <td>sofas</td>\n",
       "      <td>buy sofas</td>\n",
       "    </tr>\n",
       "    <tr>\n",
       "      <th>2</th>\n",
       "      <td>sofas</td>\n",
       "      <td>sofas price</td>\n",
       "    </tr>\n",
       "    <tr>\n",
       "      <th>3</th>\n",
       "      <td>sofas</td>\n",
       "      <td>price sofas</td>\n",
       "    </tr>\n",
       "    <tr>\n",
       "      <th>4</th>\n",
       "      <td>sofas</td>\n",
       "      <td>sofas discount</td>\n",
       "    </tr>\n",
       "  </tbody>\n",
       "</table>\n",
       "</div>"
      ],
      "text/plain": [
       "       0               1\n",
       "0  sofas       sofas buy\n",
       "1  sofas       buy sofas\n",
       "2  sofas     sofas price\n",
       "3  sofas     price sofas\n",
       "4  sofas  sofas discount"
      ]
     },
     "execution_count": 14,
     "metadata": {},
     "output_type": "execute_result"
    }
   ],
   "source": [
    "# Load library\n",
    "import pandas as pd\n",
    "# Create a DataFrame from list\n",
    "keywords_df = pd.DataFrame(keywords_list)\n",
    "keywords_df.head() # Print the5 rows\n"
   ]
  },
  {
   "cell_type": "markdown",
   "id": "8f669afb-5456-4cad-ba93-a6f8c29533e4",
   "metadata": {
    "dc": {
     "key": "25"
    },
    "run_control": {
     "frozen": true
    },
    "tags": [
     "context"
    ]
   },
   "source": [
    "## 4. Rename the columns of the DataFrame\n",
    "<p>Before we can upload this table of keywords, we will need to give the columns meaningful names. If we inspect the DataFrame we just created above, we can see that the columns are currently named <code>0</code> and <code>1</code>. <code>Ad Group</code> (example: \"sofas\") and <code>Keyword</code> (example: \"sofas buy\") are much more appropriate names.</p>"
   ]
  },
  {
   "cell_type": "code",
   "execution_count": 15,
   "id": "8c0beba1-5cf0-4e02-a860-f9fd174e1a07",
   "metadata": {
    "dc": {
     "key": "25"
    },
    "execution": {
     "iopub.execute_input": "2022-11-23T07:54:25.919909Z",
     "iopub.status.busy": "2022-11-23T07:54:25.919620Z",
     "iopub.status.idle": "2022-11-23T07:54:25.925898Z",
     "shell.execute_reply": "2022-11-23T07:54:25.924967Z",
     "shell.execute_reply.started": "2022-11-23T07:54:25.919885Z"
    },
    "executionTime": 0,
    "lastSuccessfullyExecutedCode": "# Rename the columns of the DataFrame\nkeywords_df = keywords_df.rename(columns={0: 'Ad Group', 1:'Keyword'})",
    "tags": [
     "sample_code"
    ]
   },
   "outputs": [],
   "source": [
    "# Rename the columns of the DataFrame\n",
    "keywords_df = keywords_df.rename(columns={0: 'Ad Group', 1:'Keyword'})"
   ]
  },
  {
   "cell_type": "markdown",
   "id": "125d1f5b-5045-445f-8599-4ddcbb018138",
   "metadata": {
    "dc": {
     "key": "32"
    },
    "run_control": {
     "frozen": true
    },
    "tags": [
     "context"
    ]
   },
   "source": [
    "## 5. Add a campaign column\n",
    "<p>Now we need to add some additional information to our DataFrame. \n",
    "We need a new column called <code>Campaign</code> for the campaign name. We want campaign names to be descriptive of our group of keywords and products, so let's call this campaign 'SEM_Sofas'.</p>"
   ]
  },
  {
   "cell_type": "code",
   "execution_count": 16,
   "id": "c10a4f26-fd09-48ac-8c79-3dc9b676a890",
   "metadata": {
    "dc": {
     "key": "32"
    },
    "execution": {
     "iopub.execute_input": "2022-11-23T07:54:26.365980Z",
     "iopub.status.busy": "2022-11-23T07:54:26.365676Z",
     "iopub.status.idle": "2022-11-23T07:54:26.372580Z",
     "shell.execute_reply": "2022-11-23T07:54:26.371842Z",
     "shell.execute_reply.started": "2022-11-23T07:54:26.365955Z"
    },
    "executionTime": 69,
    "lastSuccessfullyExecutedCode": "# Add a campaign column\n# ... YOUR CODE FOR TASK 5 ...\nkeywords_df['Campaign']= 'SEM_Sofas'",
    "tags": [
     "sample_code"
    ]
   },
   "outputs": [
    {
     "data": {
      "text/plain": [
       "0      SEM_Sofas\n",
       "1      SEM_Sofas\n",
       "2      SEM_Sofas\n",
       "3      SEM_Sofas\n",
       "4      SEM_Sofas\n",
       "         ...    \n",
       "135    SEM_Sofas\n",
       "136    SEM_Sofas\n",
       "137    SEM_Sofas\n",
       "138    SEM_Sofas\n",
       "139    SEM_Sofas\n",
       "Name: Campaign, Length: 140, dtype: object"
      ]
     },
     "execution_count": 16,
     "metadata": {},
     "output_type": "execute_result"
    }
   ],
   "source": [
    "# Add a campaign column\n",
    "keywords_df['Campaign']= 'SEM_Sofas'\n",
    "keywords_df['Campaign']"
   ]
  },
  {
   "cell_type": "markdown",
   "id": "cf38e63c-5c54-4fcb-ba88-63e6abf2a869",
   "metadata": {
    "dc": {
     "key": "39"
    },
    "run_control": {
     "frozen": true
    },
    "tags": [
     "context"
    ]
   },
   "source": [
    "## 6. Create the match type column\n",
    "<p>There are different keyword match types. One is exact match, which is for matching the exact term or are close variations of that exact term. Another match type is broad match, which means ads may show on searches that include misspellings, synonyms, related searches, and other relevant variations.</p>\n",
    "<p>Straight from Google's AdWords <a href=\"https://support.google.com/google-ads/answer/2497836?hl=en\">documentation</a>:</p>\n",
    "<blockquote>\n",
    "  <p>In general, the broader the match type, the more traffic potential that keyword will have, since your ads may be triggered more often. Conversely, a narrower match type means that your ads may show less often—but when they do, they’re likely to be more related to someone’s search.</p>\n",
    "</blockquote>\n",
    "<p>Since the client is tight on budget, we want to make sure all the keywords are in exact match at the beginning.</p>"
   ]
  },
  {
   "cell_type": "code",
   "execution_count": 17,
   "id": "52062ec6-c915-4002-aacd-faa0157a37f0",
   "metadata": {
    "dc": {
     "key": "39"
    },
    "execution": {
     "iopub.execute_input": "2022-11-23T07:54:27.079024Z",
     "iopub.status.busy": "2022-11-23T07:54:27.078730Z",
     "iopub.status.idle": "2022-11-23T07:54:27.087892Z",
     "shell.execute_reply": "2022-11-23T07:54:27.087236Z",
     "shell.execute_reply.started": "2022-11-23T07:54:27.079001Z"
    },
    "executionTime": 45,
    "lastSuccessfullyExecutedCode": "# Add a criterion type column\n# ... YOUR CODE FOR TASK 6 ...\nkeywords_df['Criterion Type'] = 'Exact'\n\nkeywords_df.head()\n",
    "tags": [
     "sample_code"
    ]
   },
   "outputs": [
    {
     "data": {
      "text/html": [
       "<div>\n",
       "<style scoped>\n",
       "    .dataframe tbody tr th:only-of-type {\n",
       "        vertical-align: middle;\n",
       "    }\n",
       "\n",
       "    .dataframe tbody tr th {\n",
       "        vertical-align: top;\n",
       "    }\n",
       "\n",
       "    .dataframe thead th {\n",
       "        text-align: right;\n",
       "    }\n",
       "</style>\n",
       "<table border=\"1\" class=\"dataframe\">\n",
       "  <thead>\n",
       "    <tr style=\"text-align: right;\">\n",
       "      <th></th>\n",
       "      <th>Ad Group</th>\n",
       "      <th>Keyword</th>\n",
       "      <th>Campaign</th>\n",
       "      <th>Criterion Type</th>\n",
       "    </tr>\n",
       "  </thead>\n",
       "  <tbody>\n",
       "    <tr>\n",
       "      <th>0</th>\n",
       "      <td>sofas</td>\n",
       "      <td>sofas buy</td>\n",
       "      <td>SEM_Sofas</td>\n",
       "      <td>Exact</td>\n",
       "    </tr>\n",
       "    <tr>\n",
       "      <th>1</th>\n",
       "      <td>sofas</td>\n",
       "      <td>buy sofas</td>\n",
       "      <td>SEM_Sofas</td>\n",
       "      <td>Exact</td>\n",
       "    </tr>\n",
       "    <tr>\n",
       "      <th>2</th>\n",
       "      <td>sofas</td>\n",
       "      <td>sofas price</td>\n",
       "      <td>SEM_Sofas</td>\n",
       "      <td>Exact</td>\n",
       "    </tr>\n",
       "    <tr>\n",
       "      <th>3</th>\n",
       "      <td>sofas</td>\n",
       "      <td>price sofas</td>\n",
       "      <td>SEM_Sofas</td>\n",
       "      <td>Exact</td>\n",
       "    </tr>\n",
       "    <tr>\n",
       "      <th>4</th>\n",
       "      <td>sofas</td>\n",
       "      <td>sofas discount</td>\n",
       "      <td>SEM_Sofas</td>\n",
       "      <td>Exact</td>\n",
       "    </tr>\n",
       "  </tbody>\n",
       "</table>\n",
       "</div>"
      ],
      "text/plain": [
       "  Ad Group         Keyword   Campaign Criterion Type\n",
       "0    sofas       sofas buy  SEM_Sofas          Exact\n",
       "1    sofas       buy sofas  SEM_Sofas          Exact\n",
       "2    sofas     sofas price  SEM_Sofas          Exact\n",
       "3    sofas     price sofas  SEM_Sofas          Exact\n",
       "4    sofas  sofas discount  SEM_Sofas          Exact"
      ]
     },
     "execution_count": 17,
     "metadata": {},
     "output_type": "execute_result"
    }
   ],
   "source": [
    "# Add a criterion type column\n",
    "keywords_df['Criterion Type'] = 'Exact'\n",
    "\n",
    "keywords_df.head()\n"
   ]
  },
  {
   "cell_type": "markdown",
   "id": "c1c594ea-56dc-4ad7-9402-8101a70afbaf",
   "metadata": {
    "dc": {
     "key": "46"
    },
    "run_control": {
     "frozen": true
    },
    "tags": [
     "context"
    ]
   },
   "source": [
    "## 7. Duplicate all the keywords into 'phrase' match\n",
    "<p>The great thing about exact match is that it is very specific, and we can control the process very well. The tradeoff, however, is that:  </p>\n",
    "<ol>\n",
    "<li>The search volume for exact match is lower than other match types</li>\n",
    "<li>We can't possibly think of all the ways in which people search, and so, we are probably missing out on some high-quality keywords.</li>\n",
    "</ol>\n",
    "<p>So it's good to use another match called <em>phrase match</em> as a discovery mechanism to allow our ads to be triggered by keywords that include our exact match keywords, together with anything before (or after) them.</p>\n",
    "<p>Later on, when we launch the campaign, we can explore with modified broad match, broad match, and negative match types, for better visibility and control of our campaigns.</p>"
   ]
  },
  {
   "cell_type": "code",
   "execution_count": 18,
   "id": "56f4191d-837a-404b-8fc1-601facf44137",
   "metadata": {
    "dc": {
     "key": "46"
    },
    "execution": {
     "iopub.execute_input": "2022-11-23T07:54:27.739895Z",
     "iopub.status.busy": "2022-11-23T07:54:27.739550Z",
     "iopub.status.idle": "2022-11-23T07:54:27.760258Z",
     "shell.execute_reply": "2022-11-23T07:54:27.759479Z",
     "shell.execute_reply.started": "2022-11-23T07:54:27.739871Z"
    },
    "executionTime": 73,
    "lastSuccessfullyExecutedCode": "# Make a copy of the keywords DataFrame\nkeywords_phrase = keywords_df.copy()\n\n# Change criterion type match to phrase\nkeywords_phrase['Criterion Type'] = 'Phrase'\n\n# Append the DataFrames\nkeywords_df_final = keywords_df.append(keywords_phrase)\nkeywords_df_final",
    "tags": [
     "sample_code"
    ]
   },
   "outputs": [
    {
     "name": "stderr",
     "output_type": "stream",
     "text": [
      "/var/folders/qb/_hgdk33x1lj4ngb0zj7mly600000gn/T/ipykernel_77162/576038254.py:8: FutureWarning: The frame.append method is deprecated and will be removed from pandas in a future version. Use pandas.concat instead.\n",
      "  keywords_df_final = keywords_df.append(keywords_phrase)\n"
     ]
    },
    {
     "data": {
      "text/html": [
       "<div>\n",
       "<style scoped>\n",
       "    .dataframe tbody tr th:only-of-type {\n",
       "        vertical-align: middle;\n",
       "    }\n",
       "\n",
       "    .dataframe tbody tr th {\n",
       "        vertical-align: top;\n",
       "    }\n",
       "\n",
       "    .dataframe thead th {\n",
       "        text-align: right;\n",
       "    }\n",
       "</style>\n",
       "<table border=\"1\" class=\"dataframe\">\n",
       "  <thead>\n",
       "    <tr style=\"text-align: right;\">\n",
       "      <th></th>\n",
       "      <th>Ad Group</th>\n",
       "      <th>Keyword</th>\n",
       "      <th>Campaign</th>\n",
       "      <th>Criterion Type</th>\n",
       "    </tr>\n",
       "  </thead>\n",
       "  <tbody>\n",
       "    <tr>\n",
       "      <th>0</th>\n",
       "      <td>sofas</td>\n",
       "      <td>sofas buy</td>\n",
       "      <td>SEM_Sofas</td>\n",
       "      <td>Exact</td>\n",
       "    </tr>\n",
       "    <tr>\n",
       "      <th>1</th>\n",
       "      <td>sofas</td>\n",
       "      <td>buy sofas</td>\n",
       "      <td>SEM_Sofas</td>\n",
       "      <td>Exact</td>\n",
       "    </tr>\n",
       "    <tr>\n",
       "      <th>2</th>\n",
       "      <td>sofas</td>\n",
       "      <td>sofas price</td>\n",
       "      <td>SEM_Sofas</td>\n",
       "      <td>Exact</td>\n",
       "    </tr>\n",
       "    <tr>\n",
       "      <th>3</th>\n",
       "      <td>sofas</td>\n",
       "      <td>price sofas</td>\n",
       "      <td>SEM_Sofas</td>\n",
       "      <td>Exact</td>\n",
       "    </tr>\n",
       "    <tr>\n",
       "      <th>4</th>\n",
       "      <td>sofas</td>\n",
       "      <td>sofas discount</td>\n",
       "      <td>SEM_Sofas</td>\n",
       "      <td>Exact</td>\n",
       "    </tr>\n",
       "    <tr>\n",
       "      <th>...</th>\n",
       "      <td>...</td>\n",
       "      <td>...</td>\n",
       "      <td>...</td>\n",
       "      <td>...</td>\n",
       "    </tr>\n",
       "    <tr>\n",
       "      <th>135</th>\n",
       "      <td>sofa beds</td>\n",
       "      <td>affordable sofa beds</td>\n",
       "      <td>SEM_Sofas</td>\n",
       "      <td>Phrase</td>\n",
       "    </tr>\n",
       "    <tr>\n",
       "      <th>136</th>\n",
       "      <td>sofa beds</td>\n",
       "      <td>sofa beds cheap</td>\n",
       "      <td>SEM_Sofas</td>\n",
       "      <td>Phrase</td>\n",
       "    </tr>\n",
       "    <tr>\n",
       "      <th>137</th>\n",
       "      <td>sofa beds</td>\n",
       "      <td>cheap sofa beds</td>\n",
       "      <td>SEM_Sofas</td>\n",
       "      <td>Phrase</td>\n",
       "    </tr>\n",
       "    <tr>\n",
       "      <th>138</th>\n",
       "      <td>sofa beds</td>\n",
       "      <td>sofa beds affordable price</td>\n",
       "      <td>SEM_Sofas</td>\n",
       "      <td>Phrase</td>\n",
       "    </tr>\n",
       "    <tr>\n",
       "      <th>139</th>\n",
       "      <td>sofa beds</td>\n",
       "      <td>affordable price sofa beds</td>\n",
       "      <td>SEM_Sofas</td>\n",
       "      <td>Phrase</td>\n",
       "    </tr>\n",
       "  </tbody>\n",
       "</table>\n",
       "<p>280 rows × 4 columns</p>\n",
       "</div>"
      ],
      "text/plain": [
       "      Ad Group                     Keyword   Campaign Criterion Type\n",
       "0        sofas                   sofas buy  SEM_Sofas          Exact\n",
       "1        sofas                   buy sofas  SEM_Sofas          Exact\n",
       "2        sofas                 sofas price  SEM_Sofas          Exact\n",
       "3        sofas                 price sofas  SEM_Sofas          Exact\n",
       "4        sofas              sofas discount  SEM_Sofas          Exact\n",
       "..         ...                         ...        ...            ...\n",
       "135  sofa beds        affordable sofa beds  SEM_Sofas         Phrase\n",
       "136  sofa beds             sofa beds cheap  SEM_Sofas         Phrase\n",
       "137  sofa beds             cheap sofa beds  SEM_Sofas         Phrase\n",
       "138  sofa beds  sofa beds affordable price  SEM_Sofas         Phrase\n",
       "139  sofa beds  affordable price sofa beds  SEM_Sofas         Phrase\n",
       "\n",
       "[280 rows x 4 columns]"
      ]
     },
     "execution_count": 18,
     "metadata": {},
     "output_type": "execute_result"
    }
   ],
   "source": [
    "# Make a copy of the keywords DataFrame\n",
    "keywords_phrase = keywords_df.copy()\n",
    "\n",
    "# Change criterion type match to phrase\n",
    "keywords_phrase['Criterion Type'] = 'Phrase'\n",
    "\n",
    "# Append the DataFrames\n",
    "keywords_df_final = keywords_df.append(keywords_phrase)\n",
    "keywords_df_final"
   ]
  },
  {
   "cell_type": "markdown",
   "id": "b2dff531-4282-411f-85b7-720e148c597a",
   "metadata": {
    "dc": {
     "key": "53"
    },
    "run_control": {
     "frozen": true
    },
    "tags": [
     "context"
    ]
   },
   "source": [
    "## 8. Save and summarize!\n",
    "<p>To upload our campaign, we need to save it as a CSV file. Then we will be able to import it to AdWords editor or BingAds editor. There is also the option of pasting the data into the editor if we want, but having easy access to the saved data is great so let's save to a CSV file!</p>\n",
    "<p>Looking at a summary of our campaign structure is good now that we've wrapped up our keyword work. We can do that by grouping by ad group and criterion type and counting by keyword. This summary shows us that we assigned specific keywords to specific ad groups, which are each part of a campaign. In essence, we are telling Google (or Bing, etc.) that we want any of the words in each ad group to trigger one of the ads in the same ad group. Separately, we will have to create another table for ads, which is a task for another day and would look something like this:</p>\n",
    "<table>\n",
    "<thead>\n",
    "<tr>\n",
    "<th>Campaign</th>\n",
    "<th>Ad Group</th>\n",
    "<th>Headline 1</th>\n",
    "<th>Headline 2</th>\n",
    "<th>Description</th>\n",
    "<th>Final URL</th>\n",
    "</tr>\n",
    "</thead>\n",
    "<tbody>\n",
    "<tr>\n",
    "<td>SEM_Sofas</td>\n",
    "<td>Sofas</td>\n",
    "<td>Looking for Quality Sofas?</td>\n",
    "<td>Explore Our Massive Collection</td>\n",
    "<td>30-day Returns With Free Delivery Within the US. Start Shopping Now</td>\n",
    "<td>DataCampSofas.com/sofas</td>\n",
    "</tr>\n",
    "<tr>\n",
    "<td>SEM_Sofas</td>\n",
    "<td>Sofas</td>\n",
    "<td>Looking for Affordable Sofas?</td>\n",
    "<td>Check Out Our Weekly Offers</td>\n",
    "<td>30-day Returns With Free Delivery Within the US. Start Shopping Now</td>\n",
    "<td>DataCampSofas.com/sofas</td>\n",
    "</tr>\n",
    "<tr>\n",
    "<td>SEM_Sofas</td>\n",
    "<td>Recliners</td>\n",
    "<td>Looking for Quality Recliners?</td>\n",
    "<td>Explore Our Massive Collection</td>\n",
    "<td>30-day Returns With Free Delivery Within the US. Start Shopping Now</td>\n",
    "<td>DataCampSofas.com/recliners</td>\n",
    "</tr>\n",
    "<tr>\n",
    "<td>SEM_Sofas</td>\n",
    "<td>Recliners</td>\n",
    "<td>Need Affordable Recliners?</td>\n",
    "<td>Check Out Our Weekly Offers</td>\n",
    "<td>30-day Returns With Free Delivery Within the US. Start Shopping Now</td>\n",
    "<td>DataCampSofas.com/recliners</td>\n",
    "</tr>\n",
    "</tbody>\n",
    "</table>\n",
    "<p>Together, these tables get us the sample <strong>keywords -> ads -> landing pages</strong> mapping shown in the diagram below.</p>\n",
    "<p><img src=\"https://assets.datacamp.com/production/project_400/img/kwds_ads_lpages.png\" alt=\"Keywords-Ads-Landing pages flow\"></p>"
   ]
  },
  {
   "cell_type": "code",
   "execution_count": 19,
   "id": "632e4367-8732-45ea-84cd-6981d5384b57",
   "metadata": {
    "dc": {
     "key": "53"
    },
    "execution": {
     "iopub.execute_input": "2022-11-23T07:54:28.575811Z",
     "iopub.status.busy": "2022-11-23T07:54:28.575518Z",
     "iopub.status.idle": "2022-11-23T07:54:28.588095Z",
     "shell.execute_reply": "2022-11-23T07:54:28.587474Z",
     "shell.execute_reply.started": "2022-11-23T07:54:28.575786Z"
    },
    "executionTime": 40,
    "lastSuccessfullyExecutedCode": "# Save the final keywords to a CSV file\n# ... YOUR CODE FOR TASK 8 ...\nkeywords_df_final.to_csv('keywords.csv', index=False)\n# View a summary of our campaign work\nsummary = keywords_df_final.groupby(['Ad Group', 'Criterion Type'])['Keyword'].count()\nprint(summary)",
    "tags": [
     "sample_code"
    ]
   },
   "outputs": [
    {
     "name": "stdout",
     "output_type": "stream",
     "text": [
      "Ad Group           Criterion Type\n",
      "convertible sofas  Exact             28\n",
      "                   Phrase            28\n",
      "love seats         Exact             28\n",
      "                   Phrase            28\n",
      "recliners          Exact             28\n",
      "                   Phrase            28\n",
      "sofa beds          Exact             28\n",
      "                   Phrase            28\n",
      "sofas              Exact             28\n",
      "                   Phrase            28\n",
      "Name: Keyword, dtype: int64\n"
     ]
    }
   ],
   "source": [
    "# Save the final keywords to a CSV file\n",
    "keywords_df_final.to_csv('keywords.csv', index=False)\n",
    "# View a summary of our campaign work\n",
    "summary = keywords_df_final.groupby(['Ad Group', 'Criterion Type'])['Keyword'].count()\n",
    "print(summary)"
   ]
  }
 ],
 "metadata": {
  "editor": "DataCamp Workspace",
  "kernelspec": {
   "display_name": "Python 3 (ipykernel)",
   "language": "python",
   "name": "python3"
  },
  "language_info": {
   "codemirror_mode": {
    "name": "ipython",
    "version": 3
   },
   "file_extension": ".py",
   "mimetype": "text/x-python",
   "name": "python",
   "nbconvert_exporter": "python",
   "pygments_lexer": "ipython3",
   "version": "3.9.12"
  }
 },
 "nbformat": 4,
 "nbformat_minor": 5
}
